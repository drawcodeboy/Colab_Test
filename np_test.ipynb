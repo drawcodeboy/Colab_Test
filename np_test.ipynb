{
  "nbformat": 4,
  "nbformat_minor": 0,
  "metadata": {
    "colab": {
      "name": "np_test.ipynb",
      "provenance": [],
      "collapsed_sections": [],
      "authorship_tag": "ABX9TyO9u1YdzD8gLQawo6d5TzhF",
      "include_colab_link": true
    },
    "kernelspec": {
      "name": "python3",
      "display_name": "Python 3"
    },
    "language_info": {
      "name": "python"
    }
  },
  "cells": [
    {
      "cell_type": "markdown",
      "metadata": {
        "id": "view-in-github",
        "colab_type": "text"
      },
      "source": [
        "<a href=\"https://colab.research.google.com/github/drawcodeboy/Colab_Test/blob/main/np_test.ipynb\" target=\"_parent\"><img src=\"https://colab.research.google.com/assets/colab-badge.svg\" alt=\"Open In Colab\"/></a>"
      ]
    },
    {
      "cell_type": "code",
      "source": [
        "# https://bskyvision.com/748\n",
        "# https://banmans.tistory.com/32"
      ],
      "metadata": {
        "id": "w_ODcDMezGPs"
      },
      "execution_count": null,
      "outputs": []
    },
    {
      "cell_type": "code",
      "execution_count": null,
      "metadata": {
        "id": "Tj_Jjhfvi0lz"
      },
      "outputs": [],
      "source": [
        "# numpy import \n",
        "import numpy as np"
      ]
    },
    {
      "cell_type": "code",
      "source": [
        "# numpy array declaration\n",
        "\n",
        "# 1. list -> numpy array로 변환\n",
        "li = list([1, 2, 3])\n",
        "arr = np.array(li)\n",
        "print(arr)\n",
        "\n",
        "# 2.\n",
        "arr2 = np.array([1, 2, 3])\n",
        "print(arr2)"
      ],
      "metadata": {
        "colab": {
          "base_uri": "https://localhost:8080/"
        },
        "id": "ZklOLDHBi9Q_",
        "outputId": "6a881ef9-d0c5-466a-cb3f-4dbe3823d298"
      },
      "execution_count": null,
      "outputs": [
        {
          "output_type": "stream",
          "name": "stdout",
          "text": [
            "[1 2 3]\n",
            "[1 2 3]\n"
          ]
        }
      ]
    },
    {
      "cell_type": "code",
      "source": [
        "# arange\n",
        "\n",
        "# Python의 range처럼 사용가능, 배열 선언할 때 용이함. 다차원은 어떻게 하는지 모르겠음\n",
        "# ascending, descending, 증감 값까지 설정해서 사용할 수 있음\n",
        "\n",
        "arr = np.arange(10)\n",
        "print(arr)\n",
        "\n",
        "arr2 = np.arange(1, 10)\n",
        "print(arr2)\n",
        "\n",
        "arr3 = np.arange(10, 0, -1)\n",
        "print(arr3)\n",
        "\n",
        "arr4 = np.arange(1, 5.5, 0.5)\n",
        "print(arr4)"
      ],
      "metadata": {
        "colab": {
          "base_uri": "https://localhost:8080/"
        },
        "id": "g8uphqW_sJ8b",
        "outputId": "75bef468-6f89-4274-f60b-f310ae60e0ee"
      },
      "execution_count": null,
      "outputs": [
        {
          "output_type": "stream",
          "name": "stdout",
          "text": [
            "[0 1 2 3 4 5 6 7 8 9]\n",
            "[1 2 3 4 5 6 7 8 9]\n",
            "[10  9  8  7  6  5  4  3  2  1]\n",
            "[1.  1.5 2.  2.5 3.  3.5 4.  4.5 5. ]\n"
          ]
        }
      ]
    },
    {
      "cell_type": "code",
      "source": [
        "import numpy as np #해당 셀부터 np가 선언되지 않았다고 오류 떠서 재선언함\n",
        "\n",
        "# shape\n",
        "\n",
        "# 배열의 형태를 알려주는 method\n",
        "# (3, ) = 3 col 크기의 vector, (3, 4) = 3 row 4 col 크기의 matrix, (3, 2, 2) = tensor(?)\n",
        "\n",
        "arr = np.arange(1, 4)\n",
        "print(arr.shape)\n",
        "\n",
        "arr2 = np.array([[0, 1, 2, 3], [4, 5, 6, 7], [8, 9, 10, 11]])\n",
        "print(arr2.shape)\n",
        "\n",
        "arr3 = np.array([[[1, 2], [3, 4]], [[5, 6], [7, 8]], [[9, 10], [11, 12]]])\n",
        "print(arr3.shape)"
      ],
      "metadata": {
        "colab": {
          "base_uri": "https://localhost:8080/"
        },
        "id": "6OkYVzCMtDFv",
        "outputId": "c2f2d4e1-fae9-4ca6-dd40-7604871e131f"
      },
      "execution_count": null,
      "outputs": [
        {
          "output_type": "stream",
          "name": "stdout",
          "text": [
            "(3,)\n",
            "(3, 4)\n",
            "(3, 2, 2)\n"
          ]
        }
      ]
    },
    {
      "cell_type": "code",
      "source": [
        "# reshape\n",
        "\n",
        "# Numpy의 배열의 모양을 바꿀 때는 reshape 메서드 사용\n",
        "# 바뀐 배열을 return하기 때문에 새로운 변수를 declare해야 함\n",
        "\n",
        "# 값의 개수가 맞지 않는 상태로 reshape 할 경우 ValueError가 난다.\n",
        "# resize 메서드를 통해 가능 (하단 셀 참조)\n",
        "\n",
        "arr = np.arange(1, 11)\n",
        "print(arr)\n",
        "\n",
        "arr2 = arr.reshape(2, 5)\n",
        "print(arr2)"
      ],
      "metadata": {
        "colab": {
          "base_uri": "https://localhost:8080/"
        },
        "id": "-n6ZeE7hpn3j",
        "outputId": "d5abe57a-4b97-4cd9-dacd-98cc62eaaf33"
      },
      "execution_count": null,
      "outputs": [
        {
          "output_type": "stream",
          "name": "stdout",
          "text": [
            "[ 1  2  3  4  5  6  7  8  9 10]\n",
            "[[ 1  2  3  4  5]\n",
            " [ 6  7  8  9 10]]\n"
          ]
        }
      ]
    },
    {
      "cell_type": "code",
      "source": [
        "# resize\n",
        "# 배열의 모양과 사이즈 바꾸기\n",
        "\n",
        "# Numpy의 모양 뿐만 아니라 사이즈까지 바꿀 수 있다. => resize 메서드 사용\n",
        "\n",
        "arr = np.arange(1, 11)\n",
        "print(arr)\n",
        "\n",
        "arr.resize(2, 4)\n",
        "print(arr)\n",
        "\n",
        "arr.resize(3, 5)\n",
        "print(arr)"
      ],
      "metadata": {
        "colab": {
          "base_uri": "https://localhost:8080/"
        },
        "id": "22Odnqr0v6ee",
        "outputId": "27a0351c-7028-4bd1-bfe6-551edb5fe165"
      },
      "execution_count": null,
      "outputs": [
        {
          "output_type": "stream",
          "name": "stdout",
          "text": [
            "[ 1  2  3  4  5  6  7  8  9 10]\n",
            "[[1 2 3 4]\n",
            " [5 6 7 8]]\n",
            "[[1 2 3 4 5]\n",
            " [6 7 8 0 0]\n",
            " [0 0 0 0 0]]\n"
          ]
        }
      ]
    },
    {
      "cell_type": "code",
      "source": [
        "# max\n",
        "\n",
        "# 원소들 중 최댓값을 반환\n",
        "\n",
        "arr = np.array([[0, 1, 2, 3], [4, 5, 6, 7], [8, 9, 10, 11]])\n",
        "print(arr.max())"
      ],
      "metadata": {
        "colab": {
          "base_uri": "https://localhost:8080/"
        },
        "id": "8koYFzYUwjw8",
        "outputId": "79221760-164e-47e6-81a2-22ca7af50f5f"
      },
      "execution_count": null,
      "outputs": [
        {
          "output_type": "stream",
          "name": "stdout",
          "text": [
            "11\n"
          ]
        }
      ]
    },
    {
      "cell_type": "code",
      "source": [
        "# argmax\n",
        "\n",
        "# 원소들 중 최댓값을 갖는 index 반환\n",
        "# 다차원 array일 경우, ~row, ~col 이런식이 아닌 첫 원소부터 하나씩 count하여 몇 번째 index인지를 반환한다.\n",
        "\n",
        "arr = np.array([[0, 1, 2, 3], [4, 5, 6, 7], [8, 9, 10, 11]])\n",
        "print(arr.argmax())"
      ],
      "metadata": {
        "colab": {
          "base_uri": "https://localhost:8080/"
        },
        "id": "lT7nvRupwuA4",
        "outputId": "10925dff-8519-48d8-a954-d11df8c3c5c9"
      },
      "execution_count": 34,
      "outputs": [
        {
          "output_type": "stream",
          "name": "stdout",
          "text": [
            "11\n"
          ]
        }
      ]
    },
    {
      "cell_type": "code",
      "source": [
        "# min, argmin 또한 존재"
      ],
      "metadata": {
        "id": "Y8FN_1FOxEKD"
      },
      "execution_count": null,
      "outputs": []
    },
    {
      "cell_type": "code",
      "source": [
        "# sort\n",
        "\n",
        "# 배열의 원소를 정렬\n",
        "\n",
        "arr = np.arange(10, 0, -1)\n",
        "arr.sort()\n",
        "print(arr)\n",
        "\n",
        "# 각 vector로 정렬됨\n",
        "arr2 = np.array([[3, 6, 1, -1], [2, -9, 1, 5], [6, -10, 4, 5]])\n",
        "arr2.sort()\n",
        "print(arr2)\n",
        "\n",
        "# argsort\n",
        "# 정렬 이후 각 원소의 인덱스가 원래 무엇이었는지"
      ],
      "metadata": {
        "colab": {
          "base_uri": "https://localhost:8080/"
        },
        "id": "AUyXE7KKxJs_",
        "outputId": "61fc2627-d50e-45c8-e3d8-08a7db25ed4e"
      },
      "execution_count": null,
      "outputs": [
        {
          "output_type": "stream",
          "name": "stdout",
          "text": [
            "[ 1  2  3  4  5  6  7  8  9 10]\n",
            "[[ -1   1   3   6]\n",
            " [ -9   1   2   5]\n",
            " [-10   4   5   6]]\n"
          ]
        }
      ]
    },
    {
      "cell_type": "code",
      "source": [
        "# astype\n",
        "# 배열을 복사한 다음 자료형을 바꿔줌\n",
        "\n",
        "arr = np.arange(1, 11)\n",
        "arr_float = arr.astype(float)\n",
        "print(arr_float)"
      ],
      "metadata": {
        "colab": {
          "base_uri": "https://localhost:8080/"
        },
        "id": "QcIhFNvvxxVg",
        "outputId": "5a6f5fde-214d-4f6f-83c8-662a4e927918"
      },
      "execution_count": null,
      "outputs": [
        {
          "output_type": "stream",
          "name": "stdout",
          "text": [
            "[ 1.  2.  3.  4.  5.  6.  7.  8.  9. 10.]\n"
          ]
        }
      ]
    },
    {
      "cell_type": "code",
      "source": [
        "# mean, var, std, sum\n",
        "# 평균, 분산, 표준편차, 합(배열 원소들)\n",
        "\n",
        "arr = np.arange(1, 11)\n",
        "\n",
        "print(arr.mean(), arr.var(), arr.std(), arr.sum(), sep = ' | ')"
      ],
      "metadata": {
        "colab": {
          "base_uri": "https://localhost:8080/"
        },
        "id": "31uCqlHByeFH",
        "outputId": "a9aa6381-2dc0-4ecb-81c7-ad164b3cb73e"
      },
      "execution_count": null,
      "outputs": [
        {
          "output_type": "stream",
          "name": "stdout",
          "text": [
            "5.5 | 8.25 | 2.8722813232690143 | 55\n"
          ]
        }
      ]
    }
  ]
}