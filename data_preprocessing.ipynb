{
  "nbformat": 4,
  "nbformat_minor": 0,
  "metadata": {
    "colab": {
      "name": "data_preprocessing",
      "provenance": [],
      "authorship_tag": "ABX9TyPRxhonVPBZCNMaovzA3r24",
      "include_colab_link": true
    },
    "kernelspec": {
      "name": "python3",
      "display_name": "Python 3"
    },
    "language_info": {
      "name": "python"
    }
  },
  "cells": [
    {
      "cell_type": "markdown",
      "metadata": {
        "id": "view-in-github",
        "colab_type": "text"
      },
      "source": [
        "<a href=\"https://colab.research.google.com/github/drawcodeboy/Colab_Test/blob/main/data_preprocessing.ipynb\" target=\"_parent\"><img src=\"https://colab.research.google.com/assets/colab-badge.svg\" alt=\"Open In Colab\"/></a>"
      ]
    },
    {
      "cell_type": "code",
      "execution_count": 7,
      "metadata": {
        "id": "hOR0WqspmakQ"
      },
      "outputs": [],
      "source": [
        "#Numpy\n",
        "#scikit-learn, 사이킷런 = 머신러닝을 대표하는 파이썬 라이브러리\n",
        "import numpy as np\n",
        "from sklearn import preprocessing"
      ]
    },
    {
      "cell_type": "code",
      "source": [
        "#Numpy를 이용한 input_data 형성\n",
        "input_data = np.array([[5.1, -2.9, 3.3],\n",
        "                       [-1.2, 7.8, -6.1],\n",
        "                       [3.9, 0.4, 2.1],\n",
        "                       [7.3, -9.9, -4.5]])\n",
        "print('Input data:', input_data, sep = '\\n')"
      ],
      "metadata": {
        "colab": {
          "base_uri": "https://localhost:8080/"
        },
        "id": "_1I_7612mug1",
        "outputId": "f5f2a047-80e2-432e-fb06-b2f94cf4fe1d"
      },
      "execution_count": 6,
      "outputs": [
        {
          "output_type": "stream",
          "name": "stdout",
          "text": [
            "Input data:\n",
            "[[ 5.1 -2.9  3.3]\n",
            " [-1.2  7.8 -6.1]\n",
            " [ 3.9  0.4  2.1]\n",
            " [ 7.3 -9.9 -4.5]]\n"
          ]
        }
      ]
    },
    {
      "cell_type": "code",
      "source": [
        "#Binarization, 이진화\n",
        "#threshold를 기준으로 데이터를 이진화 시킨다.\n",
        "data_binarized = preprocessing.Binarizer(threshold = 2.1).transform(input_data)\n",
        "print('Binarized data:', data_binarized, sep = '\\n')"
      ],
      "metadata": {
        "colab": {
          "base_uri": "https://localhost:8080/"
        },
        "id": "nDK48C7YoNvw",
        "outputId": "d5ac05c5-7dbf-4c56-c2d0-31f8bf60dabb"
      },
      "execution_count": 5,
      "outputs": [
        {
          "output_type": "stream",
          "name": "stdout",
          "text": [
            "Binarized data:\n",
            "[[1. 0. 1.]\n",
            " [0. 1. 0.]\n",
            " [1. 0. 0.]\n",
            " [1. 0. 0.]]\n"
          ]
        }
      ]
    },
    {
      "cell_type": "code",
      "source": [
        "#Mean Removal, 평균 제거\n",
        "\n",
        "print(\"Before:\")\n",
        "print(\"Mean =\", input_data.mean(axis = 0))\n",
        "print(\"Std deviation =\", input_data.std(axis = 0))\n",
        "\n",
        "data_scaled = preprocessing.scale(input_data)\n",
        "print(\"\\nAfter:\")\n",
        "print(\"Mean =\", data_scaled.mean(axis = 0))\n",
        "print(\"Std deviation =\", data_scaled.std(axis = 0))"
      ],
      "metadata": {
        "colab": {
          "base_uri": "https://localhost:8080/"
        },
        "id": "TBTDY5E0o9rQ",
        "outputId": "7a9391e7-9b8c-41da-d37c-eaf4b9363d47"
      },
      "execution_count": 11,
      "outputs": [
        {
          "output_type": "stream",
          "name": "stdout",
          "text": [
            "Before:\n",
            "Mean = [ 1.83333333  0.16666667  2.13333333 -2.36666667]\n",
            "Std deviation = [3.42669261 5.75634915 1.42906341 7.18207646]\n",
            "\n",
            "After:\n",
            "Mean = [ 0.42739717 -0.45674468  0.37351416 -0.34416666]\n",
            "Std deviation = [0.57453827 1.32774466 0.33810537 1.06931618]\n"
          ]
        }
      ]
    },
    {
      "cell_type": "code",
      "source": [
        "#Scaling, 스케일링\n",
        "\n",
        "data_scaler_minmax = preprocessing.MinMaxScaler(feature_range = (0, 1))\n",
        "data_scaled_minmax = data_scaler_minmax.fit_transform(input_data)\n",
        "print('Min max scaled data:', data_scaled_minmax, sep = '\\n')"
      ],
      "metadata": {
        "colab": {
          "base_uri": "https://localhost:8080/"
        },
        "id": "n4kebzMts_EU",
        "outputId": "bd026e16-9196-447d-9abc-c23b27ac972f"
      },
      "execution_count": 12,
      "outputs": [
        {
          "output_type": "stream",
          "name": "stdout",
          "text": [
            "Min max scaled data:\n",
            "[[0.74117647 0.39548023 1.        ]\n",
            " [0.         1.         0.        ]\n",
            " [0.6        0.5819209  0.87234043]\n",
            " [1.         0.         0.17021277]]\n"
          ]
        }
      ]
    },
    {
      "cell_type": "code",
      "source": [
        "#Normalization, 정규화\n",
        "\n",
        "data_normalized_l1 = preprocessing.normalize(input_data, norm = 'l1')\n",
        "data_normalized_l2 = preprocessing.normalize(input_data, norm = 'l2')\n",
        "print('L1 normalzied data:', data_normalized_l1, sep = '\\n')\n",
        "print('L1 normalzied data:', data_normalized_l1, sep = '\\n')"
      ],
      "metadata": {
        "colab": {
          "base_uri": "https://localhost:8080/"
        },
        "id": "9bgbWe0ut1kI",
        "outputId": "19cbde96-4eef-4323-dafc-63b0ed347b43"
      },
      "execution_count": 13,
      "outputs": [
        {
          "output_type": "stream",
          "name": "stdout",
          "text": [
            "L1 normalzied data:\n",
            "[[ 0.45132743 -0.25663717  0.2920354 ]\n",
            " [-0.0794702   0.51655629 -0.40397351]\n",
            " [ 0.609375    0.0625      0.328125  ]\n",
            " [ 0.33640553 -0.4562212  -0.20737327]]\n",
            "L1 normalzied data:\n",
            "[[ 0.45132743 -0.25663717  0.2920354 ]\n",
            " [-0.0794702   0.51655629 -0.40397351]\n",
            " [ 0.609375    0.0625      0.328125  ]\n",
            " [ 0.33640553 -0.4562212  -0.20737327]]\n"
          ]
        }
      ]
    }
  ]
}